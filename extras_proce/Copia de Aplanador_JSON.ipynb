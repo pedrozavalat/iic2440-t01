{
 "cells": [
  {
   "cell_type": "markdown",
   "metadata": {},
   "source": [
    "Se tiene que correr primero este archivo!!! luego el de procesamiento, se que debería haberlo dejado en uno solo pero weno, sorry!!"
   ]
  },
  {
   "cell_type": "code",
   "execution_count": 10,
   "metadata": {},
   "outputs": [
    {
     "name": "stdout",
     "output_type": "stream",
     "text": [
      "El archivo JSON ha sido aplanado y guardado.\n"
     ]
    }
   ],
   "source": [
    "import json\n",
    "\n",
    "# Carga el archivo JSON original\n",
    "with open('ordenes_r1.json', 'r') as file:\n",
    "    data = json.load(file)\n",
    "\n",
    "# Lista para almacenar los datos aplanados\n",
    "flat_data = []\n",
    "\n",
    "\n",
    "for mes, orders in data.items():\n",
    "    for order in orders:\n",
    "        for fruit, quantity in order.items():\n",
    "            if fruit != 'orden_id':\n",
    "                flat_data.append({\n",
    "                    'mes': mes,\n",
    "                    'orden_id': order['orden_id'],\n",
    "                    'fruta': fruit,\n",
    "                    'cantidad': quantity,\n",
    "                    'region':order['region']\n",
    "                })\n",
    "\n",
    "# Guarda el nuevo archivo JSON aplanado\n",
    "with open('ordenes_r1.json', 'w') as outfile:\n",
    "    json.dump(flat_data, outfile,ensure_ascii=False)\n",
    "\n",
    "\n",
    "print(\"El archivo JSON ha sido aplanado y guardado.\")\n"
   ]
  },
  {
   "cell_type": "code",
   "execution_count": 8,
   "metadata": {},
   "outputs": [
    {
     "name": "stdout",
     "output_type": "stream",
     "text": [
      "El archivo JSON ha sido aplanado y guardado.\n"
     ]
    }
   ],
   "source": [
    "\n",
    "\n",
    "# Carga el archivo JSON original\n",
    "with open('ordenes_r2 2.json', 'r') as file:\n",
    "    data = json.load(file)\n",
    "\n",
    "# Lista para almacenar los datos aplanados\n",
    "flat_data = []\n",
    "\n",
    "\n",
    "for mes, orders in data.items():\n",
    "    for order in orders:\n",
    "        for fruit, quantity in order.items():\n",
    "            if fruit != 'orden_id':\n",
    "                flat_data.append({\n",
    "                    'mes': mes,\n",
    "                    'orden_id': order['orden_id'],\n",
    "                    'fruta': fruit,\n",
    "                    'cantidad': quantity,\n",
    "                    'region':order['region']\n",
    "                })\n",
    "     \n",
    "\n",
    "# Guarda el nuevo archivo JSON aplanado\n",
    "with open('ordenes_r2.json', 'w') as outfile:\n",
    "    json.dump(flat_data, outfile,ensure_ascii = False)\n",
    "\n",
    "\n",
    "print(\"El archivo JSON ha sido aplanado y guardado.\")"
   ]
  }
 ],
 "metadata": {
  "kernelspec": {
   "display_name": "Python 3",
   "language": "python",
   "name": "python3"
  },
  "language_info": {
   "codemirror_mode": {
    "name": "ipython",
    "version": 3
   },
   "file_extension": ".py",
   "mimetype": "text/x-python",
   "name": "python",
   "nbconvert_exporter": "python",
   "pygments_lexer": "ipython3",
   "version": "3.10.6"
  }
 },
 "nbformat": 4,
 "nbformat_minor": 2
}
